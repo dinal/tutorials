{
 "cells": [
  {
   "cell_type": "markdown",
   "metadata": {},
   "source": [
    "# Create and Test a Model-Serving Nuclio Function\n",
    "\n",
    "This notebook demonstrates how to write an inference server, test it, and turn it into an auto-scaling Nuclio serverless function.\n",
    "\n",
    "- [Initialize Nuclio Emulation, Environment Variables, and Configuration](#image-class-infer-init-func)\n",
    "- [Create and Load the Model and Set Up the Function Handler](#image-class-infer-create-n-load-model-n-set-up-func-handler)\n",
    "- [Trigger the Function](#image-class-infer-func-trigger)\n",
    "- [Prepare to Deploy the Function](#image-class-infer-func-deploy-prepare)\n",
    "- [Deploy the Function](#image-class-infer-func-deploy)\n",
    "- [Test the Function](#image-class-infer-func-test)"
   ]
  },
  {
   "cell_type": "markdown",
   "metadata": {},
   "source": [
    "<a id=\"image-class-infer-init-func\"></a>\n",
    "## Initialize Nuclio Emulation, Environment Variables, and Configuration\n",
    "\n",
    "> **Note:** Use `# nuclio: ignore` for sections that don't need to be copied to the function."
   ]
  },
  {
   "cell_type": "code",
   "execution_count": 1,
   "metadata": {},
   "outputs": [],
   "source": [
    "# nuclio: ignore\n",
    "import nuclio\n",
    "import random\n",
    "import matplotlib.pyplot as plt"
   ]
  },
  {
   "cell_type": "code",
   "execution_count": 2,
   "metadata": {},
   "outputs": [
    {
     "name": "stdout",
     "output_type": "stream",
     "text": [
      "%nuclio: setting 'IMAGE_WIDTH' environment variable\n",
      "%nuclio: setting 'IMAGE_HEIGHT' environment variable\n",
      "%nuclio: setting 'version' environment variable\n"
     ]
    }
   ],
   "source": [
    "%%nuclio env\n",
    "IMAGE_WIDTH = 128\n",
    "IMAGE_HEIGHT = 128\n",
    "version = 1.0"
   ]
  },
  {
   "cell_type": "code",
   "execution_count": 3,
   "metadata": {},
   "outputs": [
    {
     "name": "stdout",
     "output_type": "stream",
     "text": [
      "%nuclio: setting 'MODEL_PATH' environment variable\n",
      "%nuclio: setting 'PREDICTION_MAP_PATH' environment variable\n"
     ]
    }
   ],
   "source": [
    "%nuclio env -c MODEL_PATH=/model/\n",
    "%nuclio env -l MODEL_PATH=/User/demos/horovod/gpu/image-classification/cats_dogs.hd5\n",
    "%nuclio env -l PREDICTION_MAP_PATH=./model/prediction_classes_map.json"
   ]
  },
  {
   "cell_type": "code",
   "execution_count": 4,
   "metadata": {},
   "outputs": [],
   "source": [
    "%%nuclio cmd -c\n",
    "pip install keras==2.2.4\n",
    "pip install tensorflow==1.13.1 \n",
    "pip install 'numpy<1.15.0'\n",
    "pip install requests\n",
    "pip install pillow"
   ]
  },
  {
   "cell_type": "code",
   "execution_count": 5,
   "metadata": {},
   "outputs": [
    {
     "name": "stdout",
     "output_type": "stream",
     "text": [
      "%nuclio: setting spec.build.baseImage to 'python:3.6-jessie'\n"
     ]
    }
   ],
   "source": [
    "%%nuclio config \n",
    "spec.build.baseImage = \"python:3.6-jessie\""
   ]
  },
  {
   "cell_type": "code",
   "execution_count": 6,
   "metadata": {},
   "outputs": [
    {
     "name": "stdout",
     "output_type": "stream",
     "text": [
      "mounting volume path /model as ~/demos/horovod/gpu/image-classification/cats_dogs/model\n"
     ]
    }
   ],
   "source": [
    "%nuclio mount /model ~/demos/horovod/gpu/image-classification/cats_dogs/model"
   ]
  },
  {
   "cell_type": "markdown",
   "metadata": {},
   "source": [
    "<a id=\"image-class-infer-create-n-load-model-n-set-up-func-handler\"></a>\n",
    "## Create and Load the Model and Set Up the Function Handler"
   ]
  },
  {
   "cell_type": "code",
   "execution_count": 7,
   "metadata": {},
   "outputs": [
    {
     "name": "stderr",
     "output_type": "stream",
     "text": [
      "Using TensorFlow backend.\n"
     ]
    }
   ],
   "source": [
    "import numpy as np \n",
    "from tensorflow import keras\n",
    "from keras.models import load_model\n",
    "from keras.preprocessing import image\n",
    "from keras.preprocessing.image import load_img\n",
    "import json\n",
    "import requests\n",
    "\n",
    "import os\n",
    "from os import environ, path\n",
    "from tempfile import mktemp"
   ]
  },
  {
   "cell_type": "code",
   "execution_count": 8,
   "metadata": {},
   "outputs": [],
   "source": [
    "model_file = environ['MODEL_PATH']\n",
    "prediction_map_file = environ['PREDICTION_MAP_PATH']\n",
    "\n",
    "# Set image parameters\n",
    "IMAGE_WIDTH = int(environ['IMAGE_WIDTH'])\n",
    "IMAGE_HEIGHT = int(environ['IMAGE_HEIGHT'])\n",
    "\n",
    "# load model\n",
    "def init_context(context): \n",
    "    context.model = load_model(model_file)\n",
    "    with open(prediction_map_file, 'r') as f:\n",
    "        context.prediction_map = json.load(f)"
   ]
  },
  {
   "cell_type": "code",
   "execution_count": 9,
   "metadata": {},
   "outputs": [],
   "source": [
    "def download_file(context, url, target_path):\n",
    "    with requests.get(url, stream=True) as response:\n",
    "        response.raise_for_status()\n",
    "        with open(target_path, 'wb') as f:\n",
    "            for chunk in response.iter_content(chunk_size=8192):\n",
    "                if chunk:\n",
    "                    f.write(chunk)\n",
    "\n",
    "    context.logger.info_with('Downloaded file',url=url)"
   ]
  },
  {
   "cell_type": "code",
   "execution_count": 10,
   "metadata": {},
   "outputs": [],
   "source": [
    "def handler(context, event):\n",
    "    tmp_file = mktemp()\n",
    "    image_url = event.body.decode('utf-8').strip()\n",
    "    download_file(context, image_url, tmp_file)\n",
    "    \n",
    "    img = load_img(tmp_file, target_size=(IMAGE_WIDTH, IMAGE_HEIGHT))\n",
    "    x = image.img_to_array(img)\n",
    "    x = np.expand_dims(x, axis=0)\n",
    "\n",
    "    images = np.vstack([x])\n",
    "    predicted_probability = context.model.predict_proba(images, batch_size=10)\n",
    "    predicted_class = list(zip(predicted_probability, map(lambda x: '1' if x >= 0.5 else '0', predicted_probability)))\n",
    "    actual_class = [(context.prediction_map[x[1]],x[0][0]) for x in predicted_class]   \n",
    "    os.remove(tmp_file)\n",
    "    result = {'class':actual_class[0][0], 'dog-probability':float(actual_class[0][1])}\n",
    "    return json.dumps(result)"
   ]
  },
  {
   "cell_type": "markdown",
   "metadata": {},
   "source": [
    "<a id=\"image-class-infer-func-trigger\"></a>\n",
    "## Trigger the Function"
   ]
  },
  {
   "cell_type": "code",
   "execution_count": 11,
   "metadata": {},
   "outputs": [
    {
     "name": "stderr",
     "output_type": "stream",
     "text": [
      "WARNING: Logging before flag parsing goes to stderr.\n",
      "W0702 07:05:39.756876 140252009395584 deprecation_wrapper.py:119] From /User/.pythonlibs/lib/python3.6/site-packages/keras/backend/tensorflow_backend.py:529: The name tf.placeholder is deprecated. Please use tf.compat.v1.placeholder instead.\n",
      "\n",
      "W0702 07:05:39.784578 140252009395584 deprecation_wrapper.py:119] From /User/.pythonlibs/lib/python3.6/site-packages/keras/backend/tensorflow_backend.py:4420: The name tf.random_uniform is deprecated. Please use tf.random.uniform instead.\n",
      "\n",
      "W0702 07:05:39.814317 140252009395584 deprecation_wrapper.py:119] From /User/.pythonlibs/lib/python3.6/site-packages/keras/backend/tensorflow_backend.py:250: The name tf.get_default_graph is deprecated. Please use tf.compat.v1.get_default_graph instead.\n",
      "\n",
      "W0702 07:05:39.814856 140252009395584 deprecation_wrapper.py:119] From /User/.pythonlibs/lib/python3.6/site-packages/keras/backend/tensorflow_backend.py:178: The name tf.get_default_session is deprecated. Please use tf.compat.v1.get_default_session instead.\n",
      "\n",
      "W0702 07:05:39.815345 140252009395584 deprecation_wrapper.py:119] From /User/.pythonlibs/lib/python3.6/site-packages/keras/backend/tensorflow_backend.py:185: The name tf.ConfigProto is deprecated. Please use tf.compat.v1.ConfigProto instead.\n",
      "\n",
      "W0702 07:05:39.920376 140252009395584 deprecation_wrapper.py:119] From /User/.pythonlibs/lib/python3.6/site-packages/keras/backend/tensorflow_backend.py:2029: The name tf.nn.fused_batch_norm is deprecated. Please use tf.compat.v1.nn.fused_batch_norm instead.\n",
      "\n",
      "W0702 07:05:39.987011 140252009395584 deprecation_wrapper.py:119] From /User/.pythonlibs/lib/python3.6/site-packages/keras/backend/tensorflow_backend.py:4255: The name tf.nn.max_pool is deprecated. Please use tf.nn.max_pool2d instead.\n",
      "\n",
      "W0702 07:05:39.994644 140252009395584 deprecation.py:506] From /User/.pythonlibs/lib/python3.6/site-packages/keras/backend/tensorflow_backend.py:3721: calling dropout (from tensorflow.python.ops.nn_ops) with keep_prob is deprecated and will be removed in a future version.\n",
      "Instructions for updating:\n",
      "Please use `rate` instead of `keep_prob`. Rate should be set to `rate = 1 - keep_prob`.\n",
      "W0702 07:05:40.865994 140252009395584 deprecation_wrapper.py:119] From /User/.pythonlibs/lib/python3.6/site-packages/keras/optimizers.py:793: The name tf.train.Optimizer is deprecated. Please use tf.compat.v1.train.Optimizer instead.\n",
      "\n",
      "W0702 07:05:40.875694 140252009395584 deprecation.py:323] From /User/.pythonlibs/lib/python3.6/site-packages/tensorflow/python/ops/nn_impl.py:180: add_dispatch_support.<locals>.wrapper (from tensorflow.python.ops.array_ops) is deprecated and will be removed in a future version.\n",
      "Instructions for updating:\n",
      "Use tf.where in 2.0, which has the same broadcast rule as np.where\n"
     ]
    }
   ],
   "source": [
    "# nuclio: ignore\n",
    "init_context(context)"
   ]
  },
  {
   "cell_type": "code",
   "execution_count": 16,
   "metadata": {},
   "outputs": [
    {
     "name": "stdout",
     "output_type": "stream",
     "text": [
      "Python> 2019-07-02 07:06:07,287 [info] Downloaded file: {'url': 'https://s3.amazonaws.com/iguazio-sample-data/images/catanddog/dog.391.jpg'}\n"
     ]
    },
    {
     "name": "stderr",
     "output_type": "stream",
     "text": [
      "I0702 07:06:07.287323 140252009395584 logger.py:100] Downloaded file\n"
     ]
    },
    {
     "name": "stdout",
     "output_type": "stream",
     "text": [
      "{\"class\": \"dog\", \"dog-probability\": 1.0}\n"
     ]
    },
    {
     "data": {
      "image/png": "[encoded data removed]",
      "text/plain": [
       "<Figure size 432x288 with 1 Axes>"
      ]
     },
     "metadata": {
      "needs_background": "light"
     },
     "output_type": "display_data"
    }
   ],
   "source": [
    "# nuclio: ignore\n",
    "# Select a sample for the test.\n",
    "# Set both the local path for the test and the URL for downloading the sample from AWS S3.\n",
    "DATA_LOCATION = \"./cats_and_dogs_filtered/\"\n",
    "sample = random.choice(os.listdir(DATA_LOCATION+\"/cats_n_dogs\"))\n",
    "image_local = DATA_LOCATION + \"cats_n_dogs/\"+sample # Temporary location for downloading the file \n",
    "image_url = 'https://s3.amazonaws.com/iguazio-sample-data/images/catanddog/' + sample \n",
    "\n",
    "# Show the image\n",
    "img = load_img(image_local, target_size=(IMAGE_WIDTH, IMAGE_HEIGHT))\n",
    "plt.imshow(img)\n",
    "\n",
    "event = nuclio.Event(body=bytes(image_url, 'utf-8'))\n",
    "output = handler(context, event)\n",
    "print(output)"
   ]
  },
  {
   "cell_type": "code",
   "execution_count": 17,
   "metadata": {},
   "outputs": [
    {
     "name": "stdout",
     "output_type": "stream",
     "text": [
      "%nuclio: notebook infer exported\n",
      "Config:\n",
      "apiVersion: nuclio.io/v1\n",
      "kind: Function\n",
      "metadata:\n",
      "  annotations:\n",
      "    nuclio.io/generated_by: function generated at 02-07-2019 by iguazio from /User/demos/image-classification/infer.ipynb\n",
      "  labels: {}\n",
      "  name: infer\n",
      "spec:\n",
      "  build:\n",
      "    baseImage: python:3.6-jessie\n",
      "    commands:\n",
      "    - pip install keras==2.2.4\n",
      "    - pip install tensorflow==1.13.1\n",
      "    - pip install 'numpy<1.15.0'\n",
      "    - pip install requests\n",
      "    - pip install pillow\n",
      "    functionSourceCode: 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\n",
      "    noBaseImagesPull: true\n",
      "  env:\n",
      "  - name: IMAGE_WIDTH\n",
      "    value: '128'\n",
      "  - name: IMAGE_HEIGHT\n",
      "    value: '128'\n",
      "  - name: version\n",
      "    value: '1.0'\n",
      "  - name: MODEL_PATH\n",
      "    value: /model/\n",
      "  handler: infer:handler\n",
      "  runtime: python:3.6\n",
      "  volumes:\n",
      "  - volume:\n",
      "      flexVolume:\n",
      "        driver: v3io/fuse\n",
      "        options:\n",
      "          accessKey: 1e52ff93-a541-4880-abf1-d9b948af77de\n",
      "          container: users\n",
      "          subPath: /iguazio/demos/horovod/gpu/image-classification/cats_dogs/model\n",
      "      name: fs\n",
      "    volumeMount:\n",
      "      mountPath: /model\n",
      "      name: fs\n",
      "\n",
      "Code:\n",
      "# Generated by nuclio.export.NuclioExporter on 2019-07-02 07:06\n",
      "\n",
      "import numpy as np \n",
      "from tensorflow import keras\n",
      "from keras.models import load_model\n",
      "from keras.preprocessing import image\n",
      "from keras.preprocessing.image import load_img\n",
      "import json\n",
      "import requests\n",
      "\n",
      "import os\n",
      "from os import environ, path\n",
      "from tempfile import mktemp\n",
      "\n",
      "model_file = environ['MODEL_PATH']\n",
      "prediction_map_file = environ['PREDICTION_MAP_PATH']\n",
      "\n",
      "IMAGE_WIDTH = int(environ['IMAGE_WIDTH'])\n",
      "IMAGE_HEIGHT = int(environ['IMAGE_HEIGHT'])\n",
      "\n",
      "def init_context(context): \n",
      "    context.model = load_model(model_file)\n",
      "    with open(prediction_map_file, 'r') as f:\n",
      "        context.prediction_map = json.load(f)\n",
      "\n",
      "def download_file(context, url, target_path):\n",
      "    with requests.get(url, stream=True) as response:\n",
      "        response.raise_for_status()\n",
      "        with open(target_path, 'wb') as f:\n",
      "            for chunk in response.iter_content(chunk_size=8192):\n",
      "                if chunk:\n",
      "                    f.write(chunk)\n",
      "\n",
      "    context.logger.info_with('Downloaded file',url=url)\n",
      "\n",
      "def handler(context, event):\n",
      "    tmp_file = mktemp()\n",
      "    image_url = event.body.decode('utf-8').strip()\n",
      "    download_file(context, image_url, tmp_file)\n",
      "    \n",
      "    img = load_img(tmp_file, target_size=(IMAGE_WIDTH, IMAGE_HEIGHT))\n",
      "    x = image.img_to_array(img)\n",
      "    x = np.expand_dims(x, axis=0)\n",
      "\n",
      "    images = np.vstack([x])\n",
      "    predicted_probability = context.model.predict_proba(images, batch_size=10)\n",
      "    predicted_class = list(zip(predicted_probability, map(lambda x: '1' if x >= 0.5 else '0', predicted_probability)))\n",
      "    actual_class = [(context.prediction_map[x[1]],x[0][0]) for x in predicted_class]   \n",
      "    os.remove(tmp_file)\n",
      "    result = {'class':actual_class[0][0], 'dog-probability':float(actual_class[0][1])}\n",
      "    return json.dumps(result)\n",
      "\n",
      "\n"
     ]
    }
   ],
   "source": [
    "%nuclio show"
   ]
  },
  {
   "cell_type": "markdown",
   "metadata": {},
   "source": [
    "<a id=\"image-class-infer-func-deploy-prepare\"></a>\n",
    "## Prepare to Deploy the Function\n",
    "\n",
    "Before you deploy the function, open a Jupyter terminal and run the following command:\n",
    "\n",
    "`pip install --upgrade nuclio-jupyter`"
   ]
  },
  {
   "cell_type": "markdown",
   "metadata": {},
   "source": [
    "<a id=\"image-class-infer-func-deploy\"></a>\n",
    "## Deploy the Function\n",
    "\n",
    "Run the following command to deploy the function:"
   ]
  },
  {
   "cell_type": "code",
   "execution_count": null,
   "metadata": {},
   "outputs": [
    {
     "name": "stdout",
     "output_type": "stream",
     "text": [
      "[nuclio.deploy] 2019-07-02 07:07:08,424 project name not found created new (ai)\n"
     ]
    },
    {
     "name": "stderr",
     "output_type": "stream",
     "text": [
      "I0702 07:07:08.424754 140252009395584 deploy.py:317] project name not found created new (ai)\n"
     ]
    },
    {
     "name": "stdout",
     "output_type": "stream",
     "text": [
      "[nuclio.deploy] 2019-07-02 07:07:09,507 (info) Building processor image\n"
     ]
    },
    {
     "name": "stderr",
     "output_type": "stream",
     "text": [
      "I0702 07:07:09.507237 140252009395584 deploy.py:274] (info) Building processor image\n"
     ]
    }
   ],
   "source": [
    "%nuclio deploy -n cats-dogs -p ai -c"
   ]
  },
  {
   "cell_type": "markdown",
   "metadata": {},
   "source": [
    "<a id=\"image-class-infer-func-test\"></a>\n",
    "## Test the Function"
   ]
  },
  {
   "cell_type": "code",
   "execution_count": null,
   "metadata": {},
   "outputs": [],
   "source": [
    "# Run a test with the new function. Replace \"function URL:port\" with the actual URL and port number.\n",
    "# To get the function's URL, in the platform dashboard, navigate to the function page - Functions > ai > cats-dogs - and select the 'Status' tab.\n",
    "!curl -X POST -d \"https://s3.amazonaws.com/iguazio-sample-data/images/catanddog/cat.123.jpg\" <function URL:port> "
   ]
  }
 ],
 "metadata": {
  "kernelspec": {
   "display_name": "Python 3",
   "language": "python",
   "name": "python3"
  },
  "language_info": {
   "codemirror_mode": {
    "name": "ipython",
    "version": 3
   },
   "file_extension": ".py",
   "mimetype": "text/x-python",
   "name": "python",
   "nbconvert_exporter": "python",
   "pygments_lexer": "ipython3",
   "version": "3.6.8"
  }
 },
 "nbformat": 4,
 "nbformat_minor": 2
}
