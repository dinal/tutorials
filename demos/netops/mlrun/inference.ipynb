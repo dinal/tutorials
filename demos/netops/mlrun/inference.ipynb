{
 "cells": [
  {
   "cell_type": "markdown",
   "metadata": {},
   "source": [
    "# MLRun\n",
    "# Nuclio - Inference unction\n",
    "## Environment\n",
    "Preperation for MLRun (Until pip-install version)"
   ]
  },
  {
   "cell_type": "code",
   "execution_count": 1,
   "metadata": {
    "collapsed": true,
    "jupyter": {
     "outputs_hidden": true
    }
   },
   "outputs": [
    {
     "name": "stdout",
     "output_type": "stream",
     "text": [
      "Requirement already satisfied: nest_asyncio in /User/.pythonlibs/lib/python3.6/site-packages (1.0.0)\n",
      "Requirement already satisfied: aiohttp in /User/.pythonlibs/lib/python3.6/site-packages (3.5.4)\n",
      "Requirement already satisfied: typing-extensions>=3.6.5; python_version < \"3.7\" in /User/.pythonlibs/lib/python3.6/site-packages (from aiohttp) (3.7.4)\n",
      "Requirement already satisfied: idna-ssl>=1.0; python_version < \"3.7\" in /User/.pythonlibs/lib/python3.6/site-packages (from aiohttp) (1.1.0)\n",
      "Requirement already satisfied: async-timeout<4.0,>=3.0 in /User/.pythonlibs/lib/python3.6/site-packages (from aiohttp) (3.0.1)\n",
      "Requirement already satisfied: attrs>=17.3.0 in /conda/lib/python3.6/site-packages (from aiohttp) (19.1.0)\n",
      "Requirement already satisfied: chardet<4.0,>=2.0 in /conda/lib/python3.6/site-packages (from aiohttp) (3.0.4)\n",
      "Requirement already satisfied: multidict<5.0,>=4.0 in /User/.pythonlibs/lib/python3.6/site-packages (from aiohttp) (4.5.2)\n",
      "Requirement already satisfied: yarl<2.0,>=1.0 in /User/.pythonlibs/lib/python3.6/site-packages (from aiohttp) (1.3.0)\n",
      "Requirement already satisfied: idna>=2.0 in /conda/lib/python3.6/site-packages (from idna-ssl>=1.0; python_version < \"3.7\"->aiohttp) (2.8)\n",
      "Collecting git+https://github.com/nuclio/nuclio-jupyter.git@enhance-spec\n",
      "  Cloning https://github.com/nuclio/nuclio-jupyter.git (to revision enhance-spec) to /tmp/pip-req-build-akmgcxx7\n",
      "Branch 'enhance-spec' set up to track remote branch 'enhance-spec' from 'origin'.\n",
      "Switched to a new branch 'enhance-spec'\n",
      "Requirement already satisfied (use --upgrade to upgrade): nuclio-jupyter==0.7.4 from git+https://github.com/nuclio/nuclio-jupyter.git@enhance-spec in /User/.pythonlibs/lib/python3.6/site-packages\n",
      "Requirement already satisfied: ipython>=7.2 in /conda/lib/python3.6/site-packages (from nuclio-jupyter==0.7.4) (7.6.1)\n",
      "Requirement already satisfied: jupyterlab>=0.35.4 in /conda/lib/python3.6/site-packages (from nuclio-jupyter==0.7.4) (1.0.2)\n",
      "Requirement already satisfied: nbconvert>=5.4 in /conda/lib/python3.6/site-packages (from nuclio-jupyter==0.7.4) (5.5.0)\n",
      "Requirement already satisfied: notebook>=5.7.2 in /conda/lib/python3.6/site-packages (from nuclio-jupyter==0.7.4) (6.0.0)\n",
      "Requirement already satisfied: nuclio-sdk>=0.0.3 in /conda/lib/python3.6/site-packages (from nuclio-jupyter==0.7.4) (0.0.5)\n",
      "Requirement already satisfied: pyyaml>=3.13 in /conda/lib/python3.6/site-packages (from nuclio-jupyter==0.7.4) (5.1.1)\n",
      "Requirement already satisfied: requests>=2.20.1 in /User/.pythonlibs/lib/python3.6/site-packages (from nuclio-jupyter==0.7.4) (2.21.0)\n",
      "Requirement already satisfied: tornado<6,>=5 in /User/.pythonlibs/lib/python3.6/site-packages (from nuclio-jupyter==0.7.4) (5.1.1)\n",
      "Requirement already satisfied: boto3>=1.9 in /conda/lib/python3.6/site-packages (from nuclio-jupyter==0.7.4) (1.9.197)\n",
      "Requirement already satisfied: decorator in /conda/lib/python3.6/site-packages (from ipython>=7.2->nuclio-jupyter==0.7.4) (4.4.0)\n",
      "Requirement already satisfied: traitlets>=4.2 in /conda/lib/python3.6/site-packages (from ipython>=7.2->nuclio-jupyter==0.7.4) (4.3.2)\n",
      "Requirement already satisfied: setuptools>=18.5 in /conda/lib/python3.6/site-packages (from ipython>=7.2->nuclio-jupyter==0.7.4) (41.0.1)\n",
      "Requirement already satisfied: backcall in /conda/lib/python3.6/site-packages (from ipython>=7.2->nuclio-jupyter==0.7.4) (0.1.0)\n",
      "Requirement already satisfied: pickleshare in /conda/lib/python3.6/site-packages (from ipython>=7.2->nuclio-jupyter==0.7.4) (0.7.5)\n",
      "Requirement already satisfied: pygments in /conda/lib/python3.6/site-packages (from ipython>=7.2->nuclio-jupyter==0.7.4) (2.4.2)\n",
      "Requirement already satisfied: pexpect; sys_platform != \"win32\" in /conda/lib/python3.6/site-packages (from ipython>=7.2->nuclio-jupyter==0.7.4) (4.7.0)\n",
      "Requirement already satisfied: prompt-toolkit<2.1.0,>=2.0.0 in /conda/lib/python3.6/site-packages (from ipython>=7.2->nuclio-jupyter==0.7.4) (2.0.9)\n",
      "Requirement already satisfied: jedi>=0.10 in /conda/lib/python3.6/site-packages (from ipython>=7.2->nuclio-jupyter==0.7.4) (0.13.3)\n",
      "Requirement already satisfied: jupyterlab_server~=1.0.0rc0 in /conda/lib/python3.6/site-packages (from jupyterlab>=0.35.4->nuclio-jupyter==0.7.4) (1.0.0)\n",
      "Requirement already satisfied: defusedxml in /conda/lib/python3.6/site-packages (from nbconvert>=5.4->nuclio-jupyter==0.7.4) (0.6.0)\n",
      "Requirement already satisfied: bleach in /conda/lib/python3.6/site-packages (from nbconvert>=5.4->nuclio-jupyter==0.7.4) (3.1.0)\n",
      "Requirement already satisfied: mistune>=0.8.1 in /conda/lib/python3.6/site-packages (from nbconvert>=5.4->nuclio-jupyter==0.7.4) (0.8.4)\n",
      "Requirement already satisfied: pandocfilters>=1.4.1 in /conda/lib/python3.6/site-packages (from nbconvert>=5.4->nuclio-jupyter==0.7.4) (1.4.2)\n",
      "Requirement already satisfied: entrypoints>=0.2.2 in /conda/lib/python3.6/site-packages (from nbconvert>=5.4->nuclio-jupyter==0.7.4) (0.3)\n",
      "Requirement already satisfied: jupyter-core in /conda/lib/python3.6/site-packages (from nbconvert>=5.4->nuclio-jupyter==0.7.4) (4.5.0)\n",
      "Requirement already satisfied: nbformat>=4.4 in /conda/lib/python3.6/site-packages (from nbconvert>=5.4->nuclio-jupyter==0.7.4) (4.4.0)\n",
      "Requirement already satisfied: jinja2>=2.4 in /conda/lib/python3.6/site-packages (from nbconvert>=5.4->nuclio-jupyter==0.7.4) (2.10.1)\n",
      "Requirement already satisfied: testpath in /conda/lib/python3.6/site-packages (from nbconvert>=5.4->nuclio-jupyter==0.7.4) (0.4.2)\n",
      "Requirement already satisfied: terminado>=0.8.1 in /conda/lib/python3.6/site-packages (from notebook>=5.7.2->nuclio-jupyter==0.7.4) (0.8.2)\n",
      "Requirement already satisfied: Send2Trash in /conda/lib/python3.6/site-packages (from notebook>=5.7.2->nuclio-jupyter==0.7.4) (1.5.0)\n",
      "Requirement already satisfied: ipython-genutils in /conda/lib/python3.6/site-packages (from notebook>=5.7.2->nuclio-jupyter==0.7.4) (0.2.0)\n",
      "Requirement already satisfied: ipykernel in /conda/lib/python3.6/site-packages (from notebook>=5.7.2->nuclio-jupyter==0.7.4) (5.1.1)\n",
      "Requirement already satisfied: pyzmq>=17 in /conda/lib/python3.6/site-packages (from notebook>=5.7.2->nuclio-jupyter==0.7.4) (18.0.0)\n",
      "Requirement already satisfied: prometheus-client in /conda/lib/python3.6/site-packages (from notebook>=5.7.2->nuclio-jupyter==0.7.4) (0.7.1)\n",
      "Requirement already satisfied: jupyter-client>=5.3.1 in /conda/lib/python3.6/site-packages (from notebook>=5.7.2->nuclio-jupyter==0.7.4) (5.3.1)\n",
      "Requirement already satisfied: urllib3<1.25,>=1.21.1 in /conda/lib/python3.6/site-packages (from requests>=2.20.1->nuclio-jupyter==0.7.4) (1.24.2)\n",
      "Requirement already satisfied: certifi>=2017.4.17 in /conda/lib/python3.6/site-packages (from requests>=2.20.1->nuclio-jupyter==0.7.4) (2019.6.16)\n",
      "Requirement already satisfied: chardet<3.1.0,>=3.0.2 in /conda/lib/python3.6/site-packages (from requests>=2.20.1->nuclio-jupyter==0.7.4) (3.0.4)\n",
      "Requirement already satisfied: idna<2.9,>=2.5 in /conda/lib/python3.6/site-packages (from requests>=2.20.1->nuclio-jupyter==0.7.4) (2.8)\n",
      "Requirement already satisfied: s3transfer<0.3.0,>=0.2.0 in /conda/lib/python3.6/site-packages (from boto3>=1.9->nuclio-jupyter==0.7.4) (0.2.1)\n",
      "Requirement already satisfied: jmespath<1.0.0,>=0.7.1 in /conda/lib/python3.6/site-packages (from boto3>=1.9->nuclio-jupyter==0.7.4) (0.9.4)\n",
      "Requirement already satisfied: botocore<1.13.0,>=1.12.197 in /conda/lib/python3.6/site-packages (from boto3>=1.9->nuclio-jupyter==0.7.4) (1.12.197)\n",
      "Requirement already satisfied: six in /conda/lib/python3.6/site-packages (from traitlets>=4.2->ipython>=7.2->nuclio-jupyter==0.7.4) (1.12.0)\n",
      "Requirement already satisfied: ptyprocess>=0.5 in /conda/lib/python3.6/site-packages (from pexpect; sys_platform != \"win32\"->ipython>=7.2->nuclio-jupyter==0.7.4) (0.6.0)\n",
      "Requirement already satisfied: wcwidth in /conda/lib/python3.6/site-packages (from prompt-toolkit<2.1.0,>=2.0.0->ipython>=7.2->nuclio-jupyter==0.7.4) (0.1.7)\n",
      "Requirement already satisfied: parso>=0.3.0 in /conda/lib/python3.6/site-packages (from jedi>=0.10->ipython>=7.2->nuclio-jupyter==0.7.4) (0.5.0)\n",
      "Requirement already satisfied: jsonschema>=3.0.1 in /conda/lib/python3.6/site-packages (from jupyterlab_server~=1.0.0rc0->jupyterlab>=0.35.4->nuclio-jupyter==0.7.4) (3.0.1)\n",
      "Requirement already satisfied: json5 in /conda/lib/python3.6/site-packages (from jupyterlab_server~=1.0.0rc0->jupyterlab>=0.35.4->nuclio-jupyter==0.7.4) (0.8.4)\n",
      "Requirement already satisfied: webencodings in /conda/lib/python3.6/site-packages (from bleach->nbconvert>=5.4->nuclio-jupyter==0.7.4) (0.5.1)\n",
      "Requirement already satisfied: MarkupSafe>=0.23 in /conda/lib/python3.6/site-packages (from jinja2>=2.4->nbconvert>=5.4->nuclio-jupyter==0.7.4) (1.1.1)\n",
      "Requirement already satisfied: python-dateutil>=2.1 in /conda/lib/python3.6/site-packages (from jupyter-client>=5.3.1->notebook>=5.7.2->nuclio-jupyter==0.7.4) (2.8.0)\n",
      "Requirement already satisfied: docutils<0.15,>=0.10 in /conda/lib/python3.6/site-packages (from botocore<1.13.0,>=1.12.197->boto3>=1.9->nuclio-jupyter==0.7.4) (0.14)\n",
      "Requirement already satisfied: attrs>=17.4.0 in /conda/lib/python3.6/site-packages (from jsonschema>=3.0.1->jupyterlab_server~=1.0.0rc0->jupyterlab>=0.35.4->nuclio-jupyter==0.7.4) (19.1.0)\n",
      "Requirement already satisfied: pyrsistent>=0.14.0 in /conda/lib/python3.6/site-packages (from jsonschema>=3.0.1->jupyterlab_server~=1.0.0rc0->jupyterlab>=0.35.4->nuclio-jupyter==0.7.4) (0.14.11)\n",
      "Building wheels for collected packages: nuclio-jupyter\n",
      "  Running setup.py bdist_wheel for nuclio-jupyter ... \u001b[?25ldone\n",
      "\u001b[?25h  Stored in directory: /tmp/pip-ephem-wheel-cache-q5tx6v4k/wheels/27/dd/f2/d906ffa5224575ab70b4c6a404d0d2acda1808960485a5624e\n",
      "Successfully built nuclio-jupyter\n",
      "Collecting git+https://github.com/v3io/mlrun.git\n",
      "  Cloning https://github.com/v3io/mlrun.git to /tmp/pip-req-build-m61j3k1t\n",
      "Requirement already satisfied (use --upgrade to upgrade): mlrun==0.1.3 from git+https://github.com/v3io/mlrun.git in /User/.pythonlibs/lib/python3.6/site-packages\n",
      "Requirement already satisfied: requests>=2.20.1 in /User/.pythonlibs/lib/python3.6/site-packages (from mlrun==0.1.3) (2.21.0)\n",
      "Requirement already satisfied: boto3>=1.9 in /conda/lib/python3.6/site-packages (from mlrun==0.1.3) (1.9.197)\n",
      "Requirement already satisfied: pyyaml>=5.1.0 in /conda/lib/python3.6/site-packages (from mlrun==0.1.3) (5.1.1)\n",
      "Requirement already satisfied: click>=7.0 in /conda/lib/python3.6/site-packages (from mlrun==0.1.3) (7.0)\n",
      "Requirement already satisfied: pandas>=0.23.0 in /User/.pythonlibs/lib/python3.6/site-packages (from mlrun==0.1.3) (0.23.4)\n",
      "Requirement already satisfied: kubernetes>=9.0.0 in /User/.pythonlibs/lib/python3.6/site-packages (from mlrun==0.1.3) (10.0.0)\n",
      "Requirement already satisfied: aiohttp>=3.5.0 in /User/.pythonlibs/lib/python3.6/site-packages (from mlrun==0.1.3) (3.5.4)\n",
      "Requirement already satisfied: nest-asyncio>=1.0.0 in /User/.pythonlibs/lib/python3.6/site-packages (from mlrun==0.1.3) (1.0.0)\n",
      "Requirement already satisfied: GitPython>=2.1.0 in /User/.pythonlibs/lib/python3.6/site-packages (from mlrun==0.1.3) (2.1.13)\n",
      "Requirement already satisfied: nuclio-sdk>=0.0.3 in /conda/lib/python3.6/site-packages (from mlrun==0.1.3) (0.0.5)\n",
      "Requirement already satisfied: urllib3<1.25,>=1.21.1 in /conda/lib/python3.6/site-packages (from requests>=2.20.1->mlrun==0.1.3) (1.24.2)\n",
      "Requirement already satisfied: certifi>=2017.4.17 in /conda/lib/python3.6/site-packages (from requests>=2.20.1->mlrun==0.1.3) (2019.6.16)\n",
      "Requirement already satisfied: chardet<3.1.0,>=3.0.2 in /conda/lib/python3.6/site-packages (from requests>=2.20.1->mlrun==0.1.3) (3.0.4)\n",
      "Requirement already satisfied: idna<2.9,>=2.5 in /conda/lib/python3.6/site-packages (from requests>=2.20.1->mlrun==0.1.3) (2.8)\n",
      "Requirement already satisfied: s3transfer<0.3.0,>=0.2.0 in /conda/lib/python3.6/site-packages (from boto3>=1.9->mlrun==0.1.3) (0.2.1)\n",
      "Requirement already satisfied: botocore<1.13.0,>=1.12.197 in /conda/lib/python3.6/site-packages (from boto3>=1.9->mlrun==0.1.3) (1.12.197)\n",
      "Requirement already satisfied: jmespath<1.0.0,>=0.7.1 in /conda/lib/python3.6/site-packages (from boto3>=1.9->mlrun==0.1.3) (0.9.4)\n",
      "Requirement already satisfied: numpy>=1.9.0 in /conda/lib/python3.6/site-packages (from pandas>=0.23.0->mlrun==0.1.3) (1.16.4)\n",
      "Requirement already satisfied: python-dateutil>=2.5.0 in /conda/lib/python3.6/site-packages (from pandas>=0.23.0->mlrun==0.1.3) (2.8.0)\n",
      "Requirement already satisfied: pytz>=2011k in /conda/lib/python3.6/site-packages (from pandas>=0.23.0->mlrun==0.1.3) (2019.1)\n",
      "Requirement already satisfied: google-auth>=1.0.1 in /User/.pythonlibs/lib/python3.6/site-packages (from kubernetes>=9.0.0->mlrun==0.1.3) (1.6.3)\n",
      "Requirement already satisfied: requests-oauthlib in /User/.pythonlibs/lib/python3.6/site-packages (from kubernetes>=9.0.0->mlrun==0.1.3) (1.2.0)\n",
      "Requirement already satisfied: websocket-client!=0.40.0,!=0.41.*,!=0.42.*,>=0.32.0 in /User/.pythonlibs/lib/python3.6/site-packages (from kubernetes>=9.0.0->mlrun==0.1.3) (0.56.0)\n",
      "Requirement already satisfied: six>=1.9.0 in /conda/lib/python3.6/site-packages (from kubernetes>=9.0.0->mlrun==0.1.3) (1.12.0)\n",
      "Requirement already satisfied: setuptools>=21.0.0 in /conda/lib/python3.6/site-packages (from kubernetes>=9.0.0->mlrun==0.1.3) (41.0.1)\n",
      "Requirement already satisfied: idna-ssl>=1.0; python_version < \"3.7\" in /User/.pythonlibs/lib/python3.6/site-packages (from aiohttp>=3.5.0->mlrun==0.1.3) (1.1.0)\n",
      "Requirement already satisfied: async-timeout<4.0,>=3.0 in /User/.pythonlibs/lib/python3.6/site-packages (from aiohttp>=3.5.0->mlrun==0.1.3) (3.0.1)\n",
      "Requirement already satisfied: attrs>=17.3.0 in /conda/lib/python3.6/site-packages (from aiohttp>=3.5.0->mlrun==0.1.3) (19.1.0)\n",
      "Requirement already satisfied: yarl<2.0,>=1.0 in /User/.pythonlibs/lib/python3.6/site-packages (from aiohttp>=3.5.0->mlrun==0.1.3) (1.3.0)\n",
      "Requirement already satisfied: typing-extensions>=3.6.5; python_version < \"3.7\" in /User/.pythonlibs/lib/python3.6/site-packages (from aiohttp>=3.5.0->mlrun==0.1.3) (3.7.4)\n",
      "Requirement already satisfied: multidict<5.0,>=4.0 in /User/.pythonlibs/lib/python3.6/site-packages (from aiohttp>=3.5.0->mlrun==0.1.3) (4.5.2)\n",
      "Requirement already satisfied: gitdb2>=2.0.0 in /User/.pythonlibs/lib/python3.6/site-packages (from GitPython>=2.1.0->mlrun==0.1.3) (2.0.5)\n",
      "Requirement already satisfied: docutils<0.15,>=0.10 in /conda/lib/python3.6/site-packages (from botocore<1.13.0,>=1.12.197->boto3>=1.9->mlrun==0.1.3) (0.14)\n",
      "Requirement already satisfied: cachetools>=2.0.0 in /User/.pythonlibs/lib/python3.6/site-packages (from google-auth>=1.0.1->kubernetes>=9.0.0->mlrun==0.1.3) (3.1.1)\n",
      "Requirement already satisfied: rsa>=3.1.4 in /User/.pythonlibs/lib/python3.6/site-packages (from google-auth>=1.0.1->kubernetes>=9.0.0->mlrun==0.1.3) (4.0)\n",
      "Requirement already satisfied: pyasn1-modules>=0.2.1 in /User/.pythonlibs/lib/python3.6/site-packages (from google-auth>=1.0.1->kubernetes>=9.0.0->mlrun==0.1.3) (0.2.5)\n",
      "Requirement already satisfied: oauthlib>=3.0.0 in /User/.pythonlibs/lib/python3.6/site-packages (from requests-oauthlib->kubernetes>=9.0.0->mlrun==0.1.3) (3.0.2)\n",
      "Requirement already satisfied: smmap2>=2.0.0 in /User/.pythonlibs/lib/python3.6/site-packages (from gitdb2>=2.0.0->GitPython>=2.1.0->mlrun==0.1.3) (2.0.5)\n",
      "Requirement already satisfied: pyasn1>=0.1.3 in /User/.pythonlibs/lib/python3.6/site-packages (from rsa>=3.1.4->google-auth>=1.0.1->kubernetes>=9.0.0->mlrun==0.1.3) (0.4.5)\n",
      "Building wheels for collected packages: mlrun\n",
      "  Running setup.py bdist_wheel for mlrun ... \u001b[?25ldone\n",
      "\u001b[?25h  Stored in directory: /tmp/pip-ephem-wheel-cache-qr0sb_9a/wheels/2b/0a/b1/2800e59ea6571091083a35a67a92d5d5744a64b61928c849ab\n",
      "Successfully built mlrun\n"
     ]
    }
   ],
   "source": [
    "# nuclio: ignore\n",
    "!pip install nest_asyncio\n",
    "!pip install aiohttp\n",
    "!pip install git+https://github.com/nuclio/nuclio-jupyter.git@enhance-spec\n",
    "!pip install git+https://github.com/v3io/mlrun.git"
   ]
  },
  {
   "cell_type": "markdown",
   "metadata": {},
   "source": [
    "Add MLRun to our python path (Fix until it will be pip-install)"
   ]
  },
  {
   "cell_type": "code",
   "execution_count": 49,
   "metadata": {},
   "outputs": [],
   "source": [
    "# nuclio: ignore\n",
    "import nuclio"
   ]
  },
  {
   "cell_type": "markdown",
   "metadata": {},
   "source": [
    "### Configurations"
   ]
  },
  {
   "cell_type": "code",
   "execution_count": 72,
   "metadata": {},
   "outputs": [],
   "source": [
    "# nuclio: ignore\n",
    "\n",
    "# Setup environment variables\n",
    "env_vars = {\n",
    "\n",
    "}\n",
    "\n",
    "# Function configurations\n",
    "configs = {\n",
    "    # Base image\n",
    "    'spec.build.baseImage': 'python:3.6-jessie',\n",
    "    \n",
    "    # Triggers\n",
    "    'spec.triggers': {\n",
    "        'web': {\n",
    "            'kind': 'http', \n",
    "            'maxWorkers': 1\n",
    "        }\n",
    "    }\n",
    "}\n",
    "\n",
    "# Build commands\n",
    "build_commands = \"\"\"pip install pyyaml\n",
    "pip install pyarrow\n",
    "pip install pandas\n",
    "pip install v3io_frames --upgrade\n",
    "pip install scikit-learn==0.20.1\n",
    "pip install xgboost\n",
    "pip install git+https://github.com/v3io/mlrun.git\"\"\".splitlines()\n"
   ]
  },
  {
   "cell_type": "code",
   "execution_count": 88,
   "metadata": {},
   "outputs": [
    {
     "name": "stdout",
     "output_type": "stream",
     "text": [
      "%nuclio: setting 'V3IO_FRAMESD' environment variable\n",
      "%nuclio: setting 'V3IO_USERNAME' environment variable\n",
      "%nuclio: setting 'V3IO_ACCESS_KEY' environment variable\n"
     ]
    }
   ],
   "source": [
    "# DB Config\n",
    "%nuclio env V3IO_FRAMESD=${V3IO_FRAMESD}\n",
    "%nuclio env V3IO_USERNAME=${V3IO_USERNAME}\n",
    "%nuclio env V3IO_ACCESS_KEY=${V3IO_ACCESS_KEY}"
   ]
  },
  {
   "cell_type": "markdown",
   "metadata": {},
   "source": [
    "## Function"
   ]
  },
  {
   "cell_type": "code",
   "execution_count": 82,
   "metadata": {},
   "outputs": [],
   "source": [
    "# Utilities\n",
    "import os\n",
    "import pickle\n",
    "\n",
    "# ML Pipeline Context\n",
    "from mlrun import get_or_create_ctx, run_start\n",
    "\n",
    "# DB Connection\n",
    "import v3io_frames as v3f\n",
    "\n",
    "# Dataframe\n",
    "import pandas as pd\n",
    "\n",
    "# Model framework\n",
    "import xgboost as xgb"
   ]
  },
  {
   "cell_type": "markdown",
   "metadata": {},
   "source": [
    "### Helper functions"
   ]
  },
  {
   "cell_type": "code",
   "execution_count": 100,
   "metadata": {},
   "outputs": [],
   "source": [
    "def get_data_parquet(client, metrics_table):\n",
    "    # Get parquet files\n",
    "    mpath = [os.path.join(context.metrics_table, file) for file in os.listdir(context.metrics_table)]\n",
    "    \n",
    "    # Get latest filename\n",
    "    latest = max(mpath, key=os.path.getmtime)\n",
    "    \n",
    "    # Load parquet\n",
    "    df = pd.read_parquet(latest)\n",
    "    \n",
    "    # Set index names\n",
    "    df.index.names = indexes\n",
    "    return df"
   ]
  },
  {
   "cell_type": "code",
   "execution_count": 92,
   "metadata": {},
   "outputs": [],
   "source": [
    "def save_to_parquet(df, indexes, features_table):\n",
    "    print('Saving features to Parquet')\n",
    "    \n",
    "    # Need to fix timestamps from ns to ms if we write to parquet\n",
    "    df = df.reset_index()\n",
    "    df['timestamp'] = df.loc[:, 'timestamp'].astype('datetime64[ms]')\n",
    "    \n",
    "    # Fix indexes\n",
    "    df= df.set_index(indexes)\n",
    "    \n",
    "    # Save parquet\n",
    "    first_timestamp = df.index[0][0].strftime('%Y%m%dT%H%M%S')\n",
    "    last_timestamp = df.index[-1][0].strftime('%Y%m%dT%H%M%S')\n",
    "    filename = first_timestamp + '-' + last_timestamp + '.parquet'\n",
    "    filepath = os.path.join(features_table, filename)\n",
    "    with open(filepath, 'wb+') as f:\n",
    "        df.to_parquet(f)"
   ]
  },
  {
   "cell_type": "markdown",
   "metadata": {},
   "source": [
    "### Handler"
   ]
  },
  {
   "cell_type": "code",
   "execution_count": 94,
   "metadata": {},
   "outputs": [],
   "source": [
    "# Persistent objects\n",
    "model = None\n",
    "model_filepath = ''\n",
    "client = v3f.Client(address='framesd:8081', container='bigdata')"
   ]
  },
  {
   "cell_type": "code",
   "execution_count": 110,
   "metadata": {},
   "outputs": [],
   "source": [
    "def handler(context, event):\n",
    "    \n",
    "    # Expose persistent objects\n",
    "    global model\n",
    "    global model_filepath\n",
    "    \n",
    "    mlctx = get_or_create_ctx('netops_training', event=event)\n",
    "    \n",
    "    context.logger.info(\n",
    "        f'Run: {mlctx.name} uid={mlctx.uid}:{mlctx.iteration}')\n",
    "    \n",
    "    \n",
    "    # Do we need to load or change the model ?\n",
    "    current_model_filepath = mlctx.get_param('model_filepath', '/v3io/bigdata/netops/models/')\n",
    "    if current_model_filepath != model_filepath:\n",
    "        try:\n",
    "            model = xgb.XGBModel()\n",
    "            model.load_model(model_filepath)\n",
    "            model_filepath = current_model_filepath\n",
    "        except:\n",
    "            context.logger.error(f'Model file was not found at {model_filepath}')\n",
    "    \n",
    "    if model is None:\n",
    "        context.logger.error('Please specify model_filepath')\n",
    "        return None\n",
    "    \n",
    "    # Get the data\n",
    "    features_table = mlctx.get_param('features_table', 'netops_features')\n",
    "    indexes = mlctx.get_param('indexes', ['timestamp', 'company', 'data_center', 'device'])\n",
    "    input_type = mlctx.get_param('input_type', 'v3io')\n",
    "    if input_type == 'v3io':\n",
    "        range_start = mlctx.get_param('input_range_start', 'now-1m')\n",
    "        range_end = mlctx.get_param('input_range_end', 'now')\n",
    "        # Get the data from TSDB\n",
    "        df = client.read(backend='tsdb', query=f'select * from {features_table}',\n",
    "                         start=range_start, end=range_end, multi_index=True)\n",
    "\n",
    "        # Format the df and load it to dask \n",
    "        df.index.names = indexes\n",
    "        \n",
    "    elif input_type == 'parquet':\n",
    "         # Create saving directory if needed\n",
    "        filepath = os.path.join(features_table)\n",
    "        os.makedirs(filepath, exist_ok=True)\n",
    "            \n",
    "        # Set Parquet reading function\n",
    "        df = get_data_parquet(client, metrics_table)\n",
    "        \n",
    "    elif input_type == 'http':\n",
    "        # Create Dataframe from event\n",
    "        df = pd.read_json(event.body)\n",
    "\n",
    "    # Predict - one line\n",
    "    prediction = model.predict(df.values)\n",
    "    \n",
    "    # Build response\n",
    "    return_full_df = mlctx.get_param('return_full_df', False)\n",
    "    if return_full_df:\n",
    "        prediction_col = mlctx.get_param('prediction_col', 'prediction')\n",
    "        df[prediction_col] = prediction\n",
    "        df = df.set_index(indexes)\n",
    "    else:\n",
    "        df = prediction\n",
    "\n",
    "    # Return response\n",
    "    prediction_table = mlctx.get_param('prediction_table', '/v3io/bigdata/netops_predictions/')\n",
    "    response_type = mlctx.get_param('response_type', 'return')\n",
    "    if response_type == 'return':\n",
    "        return df.to_json()\n",
    "    elif response_type == 'parquet':\n",
    "        save_to_parquet(df, indexes, prediction_table)\n",
    "    elif response_type == 'v3io':\n",
    "        client.write('tsdb', predictions_table, df)\n",
    "    "
   ]
  },
  {
   "cell_type": "markdown",
   "metadata": {},
   "source": [
    "### Test"
   ]
  },
  {
   "cell_type": "code",
   "execution_count": null,
   "metadata": {},
   "outputs": [],
   "source": [
    "# nuclio: ignore\n",
    "resp = run_start({}, handler=handler)"
   ]
  },
  {
   "cell_type": "markdown",
   "metadata": {},
   "source": [
    "## Deployment"
   ]
  },
  {
   "cell_type": "code",
   "execution_count": 96,
   "metadata": {},
   "outputs": [
    {
     "name": "stdout",
     "output_type": "stream",
     "text": [
      "[nuclio.deploy] 2019-08-15 14:43:50,859 (info) Building processor image\n",
      "[nuclio.deploy] 2019-08-15 14:43:52,881 (info) Pushing image\n",
      "[nuclio.deploy] 2019-08-15 14:43:52,882 (info) Build complete\n",
      "[nuclio.deploy] 2019-08-15 14:43:58,949 (info) Function deploy complete\n",
      "[nuclio.deploy] 2019-08-15 14:43:58,957 done updating inference, function address: 3.120.15.118:30064\n"
     ]
    }
   ],
   "source": [
    "# nuclio: ignore\n",
    "spec = nuclio.ConfigSpec(env=env_vars, \n",
    "                         cmd=build_commands,\n",
    "                         config=configs,\n",
    "                         mount=nuclio.Volume('User','~/'))\n",
    "\n",
    "addr = nuclio.deploy_file('',name='inference', project='netops_mlrun', verbose=False, spec=spec)"
   ]
  },
  {
   "cell_type": "code",
   "execution_count": null,
   "metadata": {},
   "outputs": [],
   "source": []
  }
 ],
 "metadata": {
  "kernelspec": {
   "display_name": "Python 3",
   "language": "python",
   "name": "python3"
  },
  "language_info": {
   "codemirror_mode": {
    "name": "ipython",
    "version": 3
   },
   "file_extension": ".py",
   "mimetype": "text/x-python",
   "name": "python",
   "nbconvert_exporter": "python",
   "pygments_lexer": "ipython3",
   "version": "3.6.8"
  }
 },
 "nbformat": 4,
 "nbformat_minor": 4
}
