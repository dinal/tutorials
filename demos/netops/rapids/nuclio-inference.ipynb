{
 "cells": [
  {
   "cell_type": "markdown",
   "metadata": {},
   "source": [
    "# Nuclio - Training function"
   ]
  },
  {
   "cell_type": "markdown",
   "metadata": {},
   "source": [
    "## Environment"
   ]
  },
  {
   "cell_type": "code",
   "execution_count": 147,
   "metadata": {},
   "outputs": [],
   "source": [
    "# nuclio: ignore\n",
    "import nuclio"
   ]
  },
  {
   "cell_type": "markdown",
   "metadata": {},
   "source": [
    "### Configurations"
   ]
  },
  {
   "cell_type": "code",
   "execution_count": 148,
   "metadata": {},
   "outputs": [
    {
     "name": "stdout",
     "output_type": "stream",
     "text": [
      "%nuclio: setting spec.triggers.retrain.kind to 'cron'\n",
      "%nuclio: setting spec.triggers.retrain.attributes.interval to '1h'\n",
      "%nuclio: setting spec.build.baseImage to 'python:3.6-jessie'\n"
     ]
    }
   ],
   "source": [
    "%%nuclio config\n",
    "\n",
    "# Trigger\n",
    "spec.triggers.retrain.kind = \"cron\"\n",
    "spec.triggers.retrain.attributes.interval = \"1h\"\n",
    "\n",
    "# Base image\n",
    "spec.build.baseImage = \"python:3.6-jessie\""
   ]
  },
  {
   "cell_type": "markdown",
   "metadata": {},
   "source": [
    "### Variables"
   ]
  },
  {
   "cell_type": "code",
   "execution_count": 149,
   "metadata": {},
   "outputs": [
    {
     "name": "stdout",
     "output_type": "stream",
     "text": [
      "%nuclio: setting 'FROM_TSDB' environment variable\n",
      "%nuclio: setting 'V3IO_FRAMESD' environment variable\n",
      "%nuclio: setting 'V3IO_USERNAME' environment variable\n",
      "%nuclio: setting 'V3IO_ACCESS_KEY' environment variable\n",
      "%nuclio: setting 'FEATURES_TABLE' environment variable\n",
      "%nuclio: setting '# FEATURES_TABLE' environment variable\n",
      "%nuclio: setting 'PREDICTIONS_TABLE' environment variable\n",
      "%nuclio: setting '# PREDICTIONS_TABLE' environment variable\n",
      "%nuclio: setting 'TRAIN_ON_LAST' environment variable\n",
      "%nuclio: setting 'TRAIN_SIZE' environment variable\n",
      "%nuclio: setting 'NUMBER_OF_SHARDS' environment variable\n",
      "%nuclio: setting '# MODEL_FILENAME' environment variable\n",
      "%nuclio: setting 'MODEL_FILENAME' environment variable\n",
      "%nuclio: setting 'SOURCE_MODEL_DIR' environment variable\n",
      "%nuclio: setting 'FIXED_WEB_DIR' environment variable\n"
     ]
    },
    {
     "name": "stderr",
     "output_type": "stream",
     "text": [
      "%nuclio: cannot find \"=\" in line\n",
      "%nuclio: cannot find \"=\" in line\n",
      "%nuclio: cannot find \"=\" in line\n",
      "%nuclio: cannot find \"=\" in line\n",
      "%nuclio: cannot find \"=\" in line\n",
      "%nuclio: cannot find \"=\" in line\n",
      "%nuclio: cannot find \"=\" in line\n"
     ]
    }
   ],
   "source": [
    "%%nuclio env\n",
    "\n",
    "# Work from TSDB or Parquet?\n",
    "FROM_TSDB=0\n",
    "\n",
    "# DB Config\n",
    "V3IO_FRAMESD=${V3IO_FRAMESD}\n",
    "V3IO_USERNAME=${V3IO_USERNAME}\n",
    "V3IO_ACCESS_KEY=${V3IO_ACCESS_KEY}\n",
    "\n",
    "# Features\n",
    "FEATURES_TABLE=../netops_features\n",
    "# FEATURES_TABLE=/v3io/bigdata/netops_features_parquet\n",
    "\n",
    "# Predictions\n",
    "PREDICTIONS_TABLE=../netops_predictions\n",
    "# PREDICTIONS_TABLE=/v3io/bigdata/netops_predictions_parquet\n",
    "\n",
    "# Training\n",
    "TRAIN_ON_LAST=1d\n",
    "TRAIN_SIZE=0.7\n",
    "\n",
    "# Parallelizem\n",
    "NUMBER_OF_SHARDS=4\n",
    "\n",
    "# Model\n",
    "# MODEL_FILENAME=netops.model.pickle\n",
    "MODEL_FILENAME=netops.v3.model.pickle\n",
    "SOURCE_MODEL_DIR=../models #/bigdata/netops/models\n",
    "FIXED_WEB_DIR=/models"
   ]
  },
  {
   "cell_type": "code",
   "execution_count": 150,
   "metadata": {},
   "outputs": [
    {
     "name": "stdout",
     "output_type": "stream",
     "text": [
      "%nuclio: setting 'CURRENT_MODEL_DIR' environment variable\n"
     ]
    }
   ],
   "source": [
    "%nuclio env -c CURRENT_MODEL_DIR=/models\n",
    "%nuclio env -l CURRENT_MODEL_DIR=../models"
   ]
  },
  {
   "cell_type": "markdown",
   "metadata": {},
   "source": [
    "### Commands"
   ]
  },
  {
   "cell_type": "code",
   "execution_count": 151,
   "metadata": {},
   "outputs": [],
   "source": [
    "%%nuclio cmd -c\n",
    "\n",
    "############\n",
    "# installs #\n",
    "############\n",
    "\n",
    "# Utils\n",
    "pip install pyarrow\n",
    "pip install pandas\n",
    "\n",
    "# Igz DB\n",
    "pip install v3io_frames --upgrade\n",
    "\n",
    "# Function\n",
    "pip install xgboost\n",
    "pip install scikit-learn==0.20.1\n",
    "\n",
    "apt-get update && apt-get install -y wget\n",
    "mkdir -p ${FIXED_WEB_DIR}"
   ]
  },
  {
   "cell_type": "code",
   "execution_count": 152,
   "metadata": {},
   "outputs": [],
   "source": [
    "%%nuclio cmd -c \n",
    "# Copy the model file into the function\n",
    "wget -O ${FIXED_WEB_DIR}/${MODEL_FILENAME} --header \"x-v3io-session-key: ${V3IO_ACCESS_KEY}\" http://${V3IO_WEBAPI_SERVICE_HOST}:8081${SOURCE_MODEL_DIR}/${MODEL_FILENAME}"
   ]
  },
  {
   "cell_type": "markdown",
   "metadata": {},
   "source": [
    "## Function"
   ]
  },
  {
   "cell_type": "markdown",
   "metadata": {},
   "source": [
    "### Imports"
   ]
  },
  {
   "cell_type": "code",
   "execution_count": 234,
   "metadata": {},
   "outputs": [],
   "source": [
    "import os\n",
    "import pickle\n",
    "\n",
    "import v3io_frames as v3f\n",
    "\n",
    "from datetime import datetime\n",
    "import pandas as pd\n",
    "import cudf\n",
    "import xgboost as xgb"
   ]
  },
  {
   "cell_type": "markdown",
   "metadata": {},
   "source": [
    "### Helper functions"
   ]
  },
  {
   "cell_type": "code",
   "execution_count": 154,
   "metadata": {},
   "outputs": [],
   "source": [
    "def format_df_from_tsdb(context, df):\n",
    "    df.index.names = ['timestamp', 'company', 'data_center', 'device']\n",
    "    return df"
   ]
  },
  {
   "cell_type": "code",
   "execution_count": 155,
   "metadata": {},
   "outputs": [],
   "source": [
    "def set_indexes(df):\n",
    "    df = df.set_index(['timestamp', 'company', 'data_center', 'device'])\n",
    "    return df"
   ]
  },
  {
   "cell_type": "code",
   "execution_count": 156,
   "metadata": {},
   "outputs": [],
   "source": [
    "def get_data_tsdb(context):\n",
    "    df = context.v3f.read(backend='tsdb', query=f'select * from {context.features_table}',\n",
    "                          start=f'now-{context.train_on_last}', end='now', multi_index=True)\n",
    "    df = format_df_from_tsdb(context, df)\n",
    "    \n",
    "    # Keep columns\n",
    "    keep_columns = [col for col in df.columns if 'is_error' not in col]\n",
    "    \n",
    "    # Keep good columns and Sort them\n",
    "    df = df[sorted(keep_columns)]\n",
    "    \n",
    "    return df"
   ]
  },
  {
   "cell_type": "code",
   "execution_count": 157,
   "metadata": {},
   "outputs": [],
   "source": [
    "def get_data_parquet(context):\n",
    "    # Get parquet files\n",
    "    mpath = [os.path.join(context.features_table, file) for file in os.listdir(context.features_table)]\n",
    "    \n",
    "    # Get latest filename\n",
    "    latest = max(mpath, key=os.path.getmtime)\n",
    "    print(latest)\n",
    "    context.logger.debug(f'Reading data from: {latest}')\n",
    "    \n",
    "    # Load parquet to dask\n",
    "    df = cudf.read_parquet(latest)\n",
    "    \n",
    "    # Keep columns\n",
    "    keep_columns = [col for col in df.columns if 'is_error' not in col]\n",
    "    \n",
    "    # Keep good columns and Sort them\n",
    "    df = df[sorted(keep_columns)]\n",
    "    \n",
    "    return df"
   ]
  },
  {
   "cell_type": "code",
   "execution_count": 158,
   "metadata": {},
   "outputs": [],
   "source": [
    "def save_to_tsdb(context, df: pd.DataFrame):   \n",
    "    # Fix indexes before saving to TSDB\n",
    "    df = set_indexes(df)\n",
    "    \n",
    "    # Save to TSDB\n",
    "    context.v3f.write('tsdb', context.predictions_table, df)"
   ]
  },
  {
   "cell_type": "code",
   "execution_count": 312,
   "metadata": {},
   "outputs": [],
   "source": [
    "def save_to_parquet(context, df: pd.DataFrame):\n",
    "    print('Saving features to Parquet')\n",
    "    \n",
    "    # Save parquet\n",
    "    first_timestamp = pd.to_datetime(df.head(1).to_pandas()['timestamp'].values[0]).strftime('%Y%m%dT%H%M%S')\n",
    "    last_timestamp = pd.to_datetime(df.tail(1).to_pandas()['timestamp'].values[0]).strftime('%Y%m%dT%H%M%S')\n",
    "    filename = first_timestamp + '-' + last_timestamp + '.parquet'\n",
    "    filepath = os.path.join(context.predictions_table, filename)\n",
    "\n",
    "    df.to_parquet(filepath)"
   ]
  },
  {
   "cell_type": "markdown",
   "metadata": {},
   "source": [
    "### Init context"
   ]
  },
  {
   "cell_type": "code",
   "execution_count": 313,
   "metadata": {},
   "outputs": [],
   "source": [
    "def init_context(context):\n",
    "    \n",
    "    # Save features directory\n",
    "    features_table = os.getenv('FEATURES_TABLE', 'netops_features')\n",
    "    setattr(context, 'features_table', features_table)\n",
    "    \n",
    "    # Save predictions directory\n",
    "    predictions_table = os.getenv('PREDICTIONS_TABLE', 'netops_predictions')\n",
    "    setattr(context, 'predictions_table', predictions_table)\n",
    "    \n",
    "    # Get saving configuration\n",
    "    is_from_tsdb = (int(os.getenv('FROM_TSDB', 1)) == 1)\n",
    "    \n",
    "    # Save to TSDB\n",
    "    if is_from_tsdb:\n",
    "        # Create our DB client\n",
    "        v3io_client = v3f.Client(address='http://' + os.getenv('V3IO_FRAMESD', 'framesd:8081'), \n",
    "                            container='bigdata', \n",
    "                            password=os.environ['V3IO_ACCESS_KEY'], \n",
    "                            user=os.environ['V3IO_USERNAME'])\n",
    "        setattr(context, 'v3f', v3io_client)\n",
    "        \n",
    "        # Create predictions table if neede\n",
    "        context.v3f.create('tsdb', context.predictions_table, attrs={'rate': '1/s'}, if_exists=1)\n",
    "        \n",
    "        train_on_last = os.getenv('TRAIN_ON_LAST', '1h')\n",
    "        setattr(context, 'train_on_last', train_on_last)\n",
    "        \n",
    "        # Set TSDB reading function\n",
    "        setattr(context, 'read', get_data_tsdb)\n",
    "        \n",
    "        # Set TSDB saving fucntion\n",
    "        setattr(context, 'write', save_to_tsdb)\n",
    "        \n",
    "    # Save to Parquet\n",
    "    else:\n",
    "         # Create saving directory if needed\n",
    "        filepath = os.path.join(context.predictions_table)\n",
    "        if not os.path.exists(filepath):\n",
    "            os.makedirs(filepath)\n",
    "            \n",
    "        # Set Parquet reading function\n",
    "        setattr(context, 'read', get_data_parquet)\n",
    "        \n",
    "        # Set Parquet saving fucntion\n",
    "        setattr(context, 'write', save_to_parquet)\n",
    "    \n",
    "    # Load the model\n",
    "    model_path = os.path.join(os.getenv('CURRENT_MODEL_DIR', '/models'), os.getenv('MODEL_FILENAME', 'netops.v1.model'))\n",
    "    with open(model_path, 'rb') as f:\n",
    "        model = pickle.load(f)\n",
    "    setattr(context, 'model', model)"
   ]
  },
  {
   "cell_type": "markdown",
   "metadata": {},
   "source": [
    "### Handler"
   ]
  },
  {
   "cell_type": "code",
   "execution_count": 314,
   "metadata": {},
   "outputs": [],
   "source": [
    "def handler(context, event):\n",
    "\n",
    "    # Load last hour data\n",
    "    df = context.read(context)\n",
    "    \n",
    "    # limit for testing\n",
    "    df = df.head(2)\n",
    "    X = df.drop(['timestamp', 'company', 'data_center', 'device'])\n",
    "    X = xgb.DMatrix(data=X.as_gpu_matrix())\n",
    "    \n",
    "    # Predict\n",
    "    df['prediction'] = context.model.predict(X)\n",
    "    \n",
    "    # Save\n",
    "    context.write(context, df)"
   ]
  },
  {
   "cell_type": "markdown",
   "metadata": {},
   "source": [
    "## Test"
   ]
  },
  {
   "cell_type": "code",
   "execution_count": 315,
   "metadata": {},
   "outputs": [],
   "source": [
    "# nuclio: ignore\n",
    "init_context(context)"
   ]
  },
  {
   "cell_type": "code",
   "execution_count": 319,
   "metadata": {},
   "outputs": [
    {
     "name": "stdout",
     "output_type": "stream",
     "text": [
      "../netops_features/20190606T080717-20190607T080527.parquet\n",
      "Saving features to Parquet\n"
     ]
    }
   ],
   "source": [
    "# nuclio: ignore\n",
    "event = nuclio.Event(body='')\n",
    "output = handler(context, event)\n",
    "output"
   ]
  },
  {
   "cell_type": "markdown",
   "metadata": {},
   "source": [
    "## Deployment"
   ]
  },
  {
   "cell_type": "code",
   "execution_count": 176,
   "metadata": {},
   "outputs": [
    {
     "name": "stdout",
     "output_type": "stream",
     "text": [
      "%nuclio: ['deploy', '-p', 'netops', '-n', 'predict', '-c', '/User/netops/tutorials/demos/netops/Nuclio-Inference.ipynb']\n",
      "%nuclio: [nuclio.deploy] 2019-05-20 09:18:24,965 (info) Building processor image\n",
      "%nuclio: [nuclio.deploy] 2019-05-20 09:18:31,035 (info) Pushing image\n",
      "%nuclio: [nuclio.deploy] 2019-05-20 09:18:31,035 (info) Build complete\n",
      "%nuclio: [nuclio.deploy] 2019-05-20 09:18:37,109 (info) Function deploy complete\n",
      "%nuclio: [nuclio.deploy] 2019-05-20 09:18:37,116 done updating predict, function address: 3.122.56.83:32642\n",
      "%nuclio: function deployed\n"
     ]
    }
   ],
   "source": [
    "%nuclio deploy -p netops -n predict -c"
   ]
  },
  {
   "cell_type": "code",
   "execution_count": 303,
   "metadata": {},
   "outputs": [
    {
     "data": {
      "text/html": [
       "<div>\n",
       "<style scoped>\n",
       "    .dataframe tbody tr th:only-of-type {\n",
       "        vertical-align: middle;\n",
       "    }\n",
       "\n",
       "    .dataframe tbody tr th {\n",
       "        vertical-align: top;\n",
       "    }\n",
       "\n",
       "    .dataframe thead th {\n",
       "        text-align: right;\n",
       "    }\n",
       "</style>\n",
       "<table border=\"1\" class=\"dataframe\">\n",
       "  <thead>\n",
       "    <tr style=\"text-align: right;\">\n",
       "      <th></th>\n",
       "      <th>company</th>\n",
       "      <th>cpu_utilization_hourly</th>\n",
       "      <th>cpu_utilization_minute</th>\n",
       "      <th>cpu_utilization_raw</th>\n",
       "      <th>data_center</th>\n",
       "      <th>device</th>\n",
       "      <th>latency_hourly</th>\n",
       "      <th>latency_minute</th>\n",
       "      <th>latency_raw</th>\n",
       "      <th>packet_loss_hourly</th>\n",
       "      <th>packet_loss_minute</th>\n",
       "      <th>packet_loss_raw</th>\n",
       "      <th>throughput_hourly</th>\n",
       "      <th>throughput_minute</th>\n",
       "      <th>throughput_raw</th>\n",
       "      <th>timestamp</th>\n",
       "      <th>prediction</th>\n",
       "    </tr>\n",
       "  </thead>\n",
       "  <tbody>\n",
       "    <tr>\n",
       "      <th>0</th>\n",
       "      <td>Wade-Burton</td>\n",
       "      <td>70.500865</td>\n",
       "      <td>73.070356</td>\n",
       "      <td>63.856445</td>\n",
       "      <td>Ibarra_Motorway</td>\n",
       "      <td>7173220258994</td>\n",
       "      <td>1.858491</td>\n",
       "      <td>1.059785</td>\n",
       "      <td>0.000000</td>\n",
       "      <td>0.782009</td>\n",
       "      <td>0.90359</td>\n",
       "      <td>0.0</td>\n",
       "      <td>250.769755</td>\n",
       "      <td>252.908534</td>\n",
       "      <td>252.848657</td>\n",
       "      <td>2019-06-06</td>\n",
       "      <td>0.309667</td>\n",
       "    </tr>\n",
       "    <tr>\n",
       "      <th>1</th>\n",
       "      <td>Harris-Klein</td>\n",
       "      <td>70.495638</td>\n",
       "      <td>72.970066</td>\n",
       "      <td>80.825313</td>\n",
       "      <td>Kennedy_Oval</td>\n",
       "      <td>1814628377378</td>\n",
       "      <td>1.884096</td>\n",
       "      <td>2.596091</td>\n",
       "      <td>4.608918</td>\n",
       "      <td>0.779490</td>\n",
       "      <td>0.90359</td>\n",
       "      <td>0.0</td>\n",
       "      <td>250.623596</td>\n",
       "      <td>239.929399</td>\n",
       "      <td>221.674161</td>\n",
       "      <td>2019-06-06</td>\n",
       "      <td>0.977703</td>\n",
       "    </tr>\n",
       "  </tbody>\n",
       "</table>\n",
       "</div>"
      ],
      "text/plain": [
       "        company  cpu_utilization_hourly  cpu_utilization_minute  \\\n",
       "0   Wade-Burton               70.500865               73.070356   \n",
       "1  Harris-Klein               70.495638               72.970066   \n",
       "\n",
       "   cpu_utilization_raw      data_center         device  latency_hourly  \\\n",
       "0            63.856445  Ibarra_Motorway  7173220258994        1.858491   \n",
       "1            80.825313     Kennedy_Oval  1814628377378        1.884096   \n",
       "\n",
       "   latency_minute  latency_raw  packet_loss_hourly  packet_loss_minute  \\\n",
       "0        1.059785     0.000000            0.782009             0.90359   \n",
       "1        2.596091     4.608918            0.779490             0.90359   \n",
       "\n",
       "   packet_loss_raw  throughput_hourly  throughput_minute  throughput_raw  \\\n",
       "0              0.0         250.769755         252.908534      252.848657   \n",
       "1              0.0         250.623596         239.929399      221.674161   \n",
       "\n",
       "    timestamp  prediction  \n",
       "0  2019-06-06    0.309667  \n",
       "1  2019-06-06    0.977703  "
      ]
     },
     "execution_count": 303,
     "metadata": {},
     "output_type": "execute_result"
    }
   ],
   "source": [
    "# nuclio: ignore\n",
    "pd.read_parquet('../netops_predictions/20190606T080717-20190606T080717.parquet/5e7106503a0f42b686f81d3da4b47f0b.parquet')"
   ]
  },
  {
   "cell_type": "code",
   "execution_count": null,
   "metadata": {},
   "outputs": [],
   "source": []
  }
 ],
 "metadata": {
  "kernelspec": {
   "display_name": "Python 3",
   "language": "python",
   "name": "python3"
  },
  "language_info": {
   "codemirror_mode": {
    "name": "ipython",
    "version": 3
   },
   "file_extension": ".py",
   "mimetype": "text/x-python",
   "name": "python",
   "nbconvert_exporter": "python",
   "pygments_lexer": "ipython3",
   "version": "3.6.8"
  }
 },
 "nbformat": 4,
 "nbformat_minor": 2
}
